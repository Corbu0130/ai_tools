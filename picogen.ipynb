{
 "cells": [
  {
   "cell_type": "code",
   "execution_count": 25,
   "metadata": {},
   "outputs": [],
   "source": [
    "from pydantic import Field\n",
    "from pydantic_settings import BaseSettings, SettingsConfigDict\n",
    "\n",
    "\n",
    "class PicogenConfig(BaseSettings):\n",
    "    api_url: str = Field(..., env=\"PICOGEN_API_URL\")\n",
    "    api_key: str = Field(..., env=\"PICOGEN_API_KEY\")\n",
    "\n",
    "    model_config = SettingsConfigDict(\n",
    "        env_file=\".env\",\n",
    "        env_file_encoding=\"utf-8\",\n",
    "        extra=\"ignore\",\n",
    "        env_prefix=\"PICOGEN_\",\n",
    "        env_nested_delimiter=\"_\",\n",
    "    )\n",
    "\n",
    "\n",
    "config = PicogenConfig()"
   ]
  },
  {
   "cell_type": "code",
   "execution_count": 26,
   "metadata": {},
   "outputs": [],
   "source": [
    "from pydantic import BaseModel\n",
    "\n",
    "\n",
    "class PicogenJobGenerateResponse(BaseModel):\n",
    "    id: str\n",
    "    cost: float\n",
    "\n",
    "class PicogenJobGetResponse(BaseModel):\n",
    "    id: str\n",
    "    status: str\n",
    "    payload: dict\n",
    "    result: str\n",
    "    duration_ms: int\n",
    "    created_at: int\n"
   ]
  },
  {
   "cell_type": "code",
   "execution_count": 27,
   "metadata": {},
   "outputs": [],
   "source": [
    "from time import sleep\n",
    "from typing import Optional\n",
    "from requests import HTTPError, Response, Session\n",
    "\n",
    "\n",
    "class PicogenService:\n",
    "    def __init__(self, config: PicogenConfig = config):\n",
    "        self.session = Session()\n",
    "        self.session.headers.update({\"API-Token\": config.api_key})\n",
    "\n",
    "    def job_generate(self, prompt: str, ratio: str = \"1:1\", seed: Optional[int] = None):\n",
    "        try:\n",
    "            payload = {\n",
    "                \"prompt\": prompt,\n",
    "                \"ratio\": ratio,\n",
    "            }\n",
    "            if seed:\n",
    "                payload[\"seed\"] = seed\n",
    "            response: Response = self.session.post(f\"{config.api_url}/job/generate\", json=payload)\n",
    "            response.raise_for_status()\n",
    "            responses: list[PicogenJobGenerateResponse] = [PicogenJobGenerateResponse(**r) for r in response.json() if r]\n",
    "            return responses\n",
    "        except HTTPError as e:\n",
    "            print(f\"Error generating job: {e.response.json()}\")\n",
    "            raise e\n",
    "        except Exception as e:\n",
    "            print(f\"Error generating job: {e}\")\n",
    "            raise e\n",
    "\n",
    "    def job_get(self, job_id: str):\n",
    "        for _ in range(10):\n",
    "            try: \n",
    "                response: Response = self.session.get(f\"{config.api_url}/job/get/{job_id}\")\n",
    "                response.raise_for_status()\n",
    "                responses: list[PicogenJobGetResponse] = [PicogenJobGetResponse(**r) for r in response.json() if r]\n",
    "                return responses\n",
    "            except HTTPError as e:\n",
    "                print(f\"Error getting job {job_id}: {e.response.json()}\")\n",
    "                sleep(1)\n",
    "            except Exception as e:\n",
    "                print(f\"Error getting job {job_id}: {e}\")\n",
    "                raise e\n",
    "            \n",
    "        raise Exception(f\"Failed to get job {job_id} after 10 attempts\")\n",
    "\n",
    "\n",
    "service = PicogenService()\n"
   ]
  },
  {
   "cell_type": "code",
   "execution_count": null,
   "metadata": {},
   "outputs": [
    {
     "name": "stdout",
     "output_type": "stream",
     "text": [
      "WvqkZH59Fpx 8.0\n"
     ]
    }
   ],
   "source": [
    "message = \"\"\"Generate a neon-lit cybernetic owl perched on a crumbling stone archway in a misty swamp.\n",
    "Its feathers are made of overlapping circuit boards, eyes glow with holographic constellations, and mechanical talons drip molten gold into the water below.\n",
    "Surround the scene with bioluminescent vines and floating hologram runes.\n",
    "Render in 4K with moody, cinematic lighting.\"\"\"\n",
    "responses = service.job_generate(message)\n",
    "generate_response = responses[0]\n",
    "print(generate_response.id, generate_response.cost)\n"
   ]
  },
  {
   "cell_type": "code",
   "execution_count": 30,
   "metadata": {},
   "outputs": [
    {
     "name": "stdout",
     "output_type": "stream",
     "text": [
      "WvqkZH59Fpx completed https://image.picogen.io/202502/02/a/5/a57c3a39707a800a1340c0aed03ec6c5.png\n"
     ]
    }
   ],
   "source": [
    "responses = service.job_get(generate_response.id)\n",
    "get_response = responses[0]\n",
    "print(get_response.id, get_response.status, get_response.result)\n"
   ]
  }
 ],
 "metadata": {
  "kernelspec": {
   "display_name": ".venv",
   "language": "python",
   "name": "python3"
  },
  "language_info": {
   "codemirror_mode": {
    "name": "ipython",
    "version": 3
   },
   "file_extension": ".py",
   "mimetype": "text/x-python",
   "name": "python",
   "nbconvert_exporter": "python",
   "pygments_lexer": "ipython3",
   "version": "3.12.4"
  }
 },
 "nbformat": 4,
 "nbformat_minor": 2
}
